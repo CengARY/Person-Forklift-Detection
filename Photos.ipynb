{
  "nbformat": 4,
  "nbformat_minor": 0,
  "metadata": {
    "colab": {
      "provenance": [],
      "authorship_tag": "ABX9TyN/y87KTW+a0hWKWpYOhZNa",
      "include_colab_link": true
    },
    "kernelspec": {
      "name": "python3",
      "display_name": "Python 3"
    },
    "language_info": {
      "name": "python"
    }
  },
  "cells": [
    {
      "cell_type": "markdown",
      "metadata": {
        "id": "view-in-github",
        "colab_type": "text"
      },
      "source": [
        "<a href=\"https://colab.research.google.com/github/CengARY/Person-Forklift-Detection/blob/main/Photos.ipynb\" target=\"_parent\"><img src=\"https://colab.research.google.com/assets/colab-badge.svg\" alt=\"Open In Colab\"/></a>"
      ]
    },
    {
      "cell_type": "code",
      "execution_count": 1,
      "metadata": {
        "id": "pT3R--aaOwZb"
      },
      "outputs": [],
      "source": [
        "import cv2\n",
        "from google.colab.patches import cv2_imshow\n",
        "import io\n",
        "import numpy as np"
      ]
    },
    {
      "cell_type": "code",
      "source": [
        "video_path = \"second.mp4\"\n",
        "\n",
        "# İlk fotoğrafın yolu\n",
        "img1_path = \"isgsis.jpg\"\n",
        "\n",
        "# İkinci fotoğrafın yolu\n",
        "img2_path = \"logo.jpg\"\n",
        "\n",
        "# Videonun yüklenmesi\n",
        "cap = cv2.VideoCapture(video_path)\n",
        "\n",
        "# Video boyutlarının alınması\n",
        "width = int(cap.get(cv2.CAP_PROP_FRAME_WIDTH))\n",
        "height = int(cap.get(cv2.CAP_PROP_FRAME_HEIGHT))\n",
        "\n",
        "# FPS değerinin alınması\n",
        "fps = int(cap.get(cv2.CAP_PROP_FPS))\n",
        "\n",
        "# Video Codec'ın belirlenmesi\n",
        "fourcc = cv2.VideoWriter_fourcc(*'mp4v')\n",
        "\n",
        "# Yeni video dosyasının oluşturulması\n",
        "out = cv2.VideoWriter('outputlast.mp4', fourcc, fps, (width, height))\n",
        "\n",
        "# Fotoğrafların yüklenmesi\n",
        "img1 = cv2.imread(img1_path)\n",
        "img2 = cv2.imread(img2_path)\n",
        "\n",
        "# Fotoğrafları boyutlandır\n",
        "img1_resized = cv2.resize(img1, (width//9, height//9))\n",
        "img2_resized = cv2.resize(img2, (width//8, height//9))\n",
        "\n",
        "# Fotoğrafların koordinatlarının belirlenmesi\n",
        "x_offset1 = width - img1_resized.shape[1]\n",
        "y_offset1 = height - img1_resized.shape[0]\n",
        "\n",
        "x_offset2 = 0\n",
        "y_offset2 = height - img2_resized.shape[0]\n",
        "\n",
        "# Ana döngü\n",
        "while True:\n",
        "    # Videodan bir frame okunur\n",
        "    ret, frame = cap.read()\n",
        "\n",
        "    if not ret:\n",
        "        break\n",
        "\n",
        "    # Fotoğraflar videonun üzerine yerleştirilir\n",
        "    frame[y_offset1:y_offset1+img1_resized.shape[0], x_offset1:x_offset1+img1_resized.shape[1]] = img1_resized\n",
        "    frame[y_offset2:y_offset2+img2_resized.shape[0], x_offset2:x_offset2+img2_resized.shape[1]] = img2_resized\n",
        "\n",
        "    # Yeni frame video dosyasına yazılır\n",
        "    out.write(frame)\n",
        "\n",
        "# Gerekli temizlik işlemleri yapılır\n",
        "cap.release()\n",
        "out.release()\n",
        "cv2.destroyAllWindows()"
      ],
      "metadata": {
        "id": "zFMtTGekOxDv"
      },
      "execution_count": 2,
      "outputs": []
    }
  ]
}