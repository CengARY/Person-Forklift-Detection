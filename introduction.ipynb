{
  "nbformat": 4,
  "nbformat_minor": 0,
  "metadata": {
    "colab": {
      "provenance": [],
      "authorship_tag": "ABX9TyNXXCBnez+sj9BSegzJeTDN",
      "include_colab_link": true
    },
    "kernelspec": {
      "name": "python3",
      "display_name": "Python 3"
    },
    "language_info": {
      "name": "python"
    }
  },
  "cells": [
    {
      "cell_type": "markdown",
      "metadata": {
        "id": "view-in-github",
        "colab_type": "text"
      },
      "source": [
        "<a href=\"https://colab.research.google.com/github/CengARY/Person-Forklift-Detection/blob/main/introduction.ipynb\" target=\"_parent\"><img src=\"https://colab.research.google.com/assets/colab-badge.svg\" alt=\"Open In Colab\"/></a>"
      ]
    },
    {
      "cell_type": "code",
      "execution_count": 1,
      "metadata": {
        "id": "pT3R--aaOwZb"
      },
      "outputs": [],
      "source": [
        "import cv2\n",
        "from google.colab.patches import cv2_imshow\n",
        "import io\n",
        "import numpy as np"
      ]
    },
    {
      "cell_type": "code",
      "source": [
        "cap = cv2.VideoCapture(\"outputlast.mp4\")\n",
        "width = int(cap.get(cv2.CAP_PROP_FRAME_WIDTH))\n",
        "height = int(cap.get(cv2.CAP_PROP_FRAME_HEIGHT))\n",
        "fps = cap.get(cv2.CAP_PROP_FPS)\n",
        "\n",
        "fourcc = cv2.VideoWriter_fourcc(*'mp4v')\n",
        "out = cv2.VideoWriter('videolast.mp4', fourcc, fps, (width, height))\n",
        "font = cv2.FONT_HERSHEY_SIMPLEX\n",
        "\n",
        "org = (width - 500, 100)\n",
        "org1 = (width - 500, 125)\n",
        "org2 = (width - 500, 150)\n",
        "org3 = (width - 500, 175)\n",
        "org4 = (width - 500, 200)\n",
        "org5 = (width - 500, 225)\n",
        "font_scale = 0.6\n",
        "color = (0, 0, 0)\n",
        "thickness = 1\n",
        "\n",
        "while True:\n",
        "    ret, frame = cap.read()\n",
        "\n",
        "    if not ret:\n",
        "        break\n",
        "\n",
        "    current_frame = int(cap.get(cv2.CAP_PROP_POS_FRAMES))\n",
        "\n",
        "    if cap.get(cv2.CAP_PROP_POS_MSEC) >= 1000 and cap.get(cv2.CAP_PROP_POS_MSEC) <= 5000:\n",
        "        text = \"EGEROBOT - isgsis\"\n",
        "        text1 = \"AİŞE REFİA YILMAZ\"\n",
        "        text2 = \"COMPUTER ENGINEER\"\n",
        "        text3 = \"04.05.2023\"\n",
        "        text4 = \"INTERNSHIP WORK - 0000025\"\n",
        "        text5 = \"PERSON AND FORKLIFT DETECTION\"\n",
        "\n",
        "        text_size = cv2.getTextSize(text, font, font_scale, thickness)[0]\n",
        "        text_size1 = cv2.getTextSize(text1, font, font_scale, thickness)[0]\n",
        "        text_size2 = cv2.getTextSize(text2, font, font_scale, thickness)[0]\n",
        "        text_size3 = cv2.getTextSize(text3, font, font_scale, thickness)[0]\n",
        "        text_size4 = cv2.getTextSize(text4, font, font_scale, thickness)[0]\n",
        "        text_size5 = cv2.getTextSize(text5, font, font_scale, thickness)[0]\n",
        "\n",
        "        cv2.putText(frame, text, org, font, font_scale, color, thickness, cv2.LINE_AA)\n",
        "        cv2.putText(frame, text1, org1, font, font_scale, color, thickness, cv2.LINE_AA)\n",
        "        cv2.putText(frame, text2, org2, font, font_scale, color, thickness, cv2.LINE_AA)\n",
        "        cv2.putText(frame, text3, org3, font, font_scale, color, thickness, cv2.LINE_AA)\n",
        "        cv2.putText(frame, text4, org4, font, font_scale, color, thickness, cv2.LINE_AA)\n",
        "        cv2.putText(frame, text5, org5, font, font_scale, color, thickness, cv2.LINE_AA)\n",
        "\n",
        "      \n",
        "    out.write(frame)\n",
        "\n",
        "cap.release()\n",
        "out.release()\n",
        "cv2.destroyAllWindows()"
      ],
      "metadata": {
        "id": "zFMtTGekOxDv"
      },
      "execution_count": 2,
      "outputs": []
    }
  ]
}